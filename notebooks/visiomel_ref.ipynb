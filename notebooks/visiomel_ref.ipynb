{
 "cells": [
  {
   "cell_type": "code",
   "execution_count": 169,
   "metadata": {},
   "outputs": [],
   "source": [
    "import os\n",
    "import random\n",
    "from sklearn.model_selection import train_test_split\n",
    "import numpy as np\n",
    "from torch.utils.data import Dataset, DataLoader\n",
    "from tqdm import tqdm\n",
    "from sklearn.metrics import balanced_accuracy_score\n",
    "import pandas as pd\n",
    "import torch\n",
    "import torch.nn as nn\n",
    "from torchvision import transforms\n",
    "import torch.optim as optim\n",
    "import torch.nn as nn\n",
    "import torchvision\n",
    "from PIL import Image\n",
    "from torch.utils.data import DataLoader, Dataset\n",
    "from efficientnet_pytorch import EfficientNet\n",
    "import torch.nn as nn\n",
    "import torch.optim as optim\n",
    "from torch.optim.lr_scheduler import CosineAnnealingLR"
   ]
  },
  {
   "cell_type": "code",
   "execution_count": 144,
   "metadata": {},
   "outputs": [],
   "source": [
    "root = r'/home/woody/iwso/iwso092h/mad_ucb_kaggle'\n",
    "train_images = r'train_thumbnails'\n",
    "image_folder = r'/home/woody/iwso/iwso092h/mad_ucb_kaggle/train_thumbnails'\n",
    "train_df = pd.read_csv(os.path.join(root,'data','train.csv'))\n",
    "train_wo_tma = train_df[train_df.is_tma==False]\n",
    "train_enc = pd.get_dummies(train_wo_tma, columns=['label'])\n",
    "train_enc[['label_CC',\n",
    "       'label_EC', 'label_HGSC', 'label_LGSC', 'label_MC']] = train_enc[['label_CC',\n",
    "       'label_EC', 'label_HGSC', 'label_LGSC', 'label_MC']].astype(int)\n",
    "train_split, val_split = train_test_split(train_enc, test_size=0.2, random_state=17)\n",
    "train_split = train_split.reset_index(drop=True)\n",
    "val_split = val_split.reset_index(drop=True)"
   ]
  },
  {
   "cell_type": "code",
   "execution_count": 130,
   "metadata": {},
   "outputs": [],
   "source": [
    "def get_tiles(img, tile_size=256, n_tiles=30, mode=0):\n",
    "    h, w, c = img.shape\n",
    "    pad_h = (tile_size - h % tile_size) % tile_size + ((tile_size * mode) // 2)\n",
    "    pad_w = (tile_size - w % tile_size) % tile_size + ((tile_size * mode) // 2)\n",
    "\n",
    "    img = np.pad(\n",
    "        img,\n",
    "        [[pad_h // 2, pad_h - pad_h // 2], [pad_w // 2, pad_w - pad_w // 2], [0, 0]],\n",
    "        constant_values=0,\n",
    "    )\n",
    "    img = img.reshape(\n",
    "        img.shape[0] // tile_size, tile_size, img.shape[1] // tile_size, tile_size, 3\n",
    "    )\n",
    "    img = img.transpose(0, 2, 1, 3, 4).reshape(-1, tile_size, tile_size, 3)\n",
    "    \n",
    "    idxs = np.argsort(img.reshape(img.shape[0], -1).sum(-1))\n",
    "    if len(img) < n_tiles:\n",
    "        img = np.pad(\n",
    "            img, [[0, n_tiles - len(img)], [0,0], [0,0], [0,0]], constant_values=255\n",
    "        )\n",
    "    # idxs = np.argsort(-img.reshape(img.shape[0], -1).sum(-1))[:n_tiles]\n",
    "    # print(type(idxs))\n",
    "    if idxs.shape[0]>n_tiles:\n",
    "        idxs = idxs[-n_tiles:]\n",
    "    img = img[idxs]\n",
    "    \n",
    "    return img\n",
    "\n",
    "def concat_tiles(tiles, n_tiles, image_size):\n",
    "    idxes = list(range(n_tiles))\n",
    "    \n",
    "    n_row_tiles = int(np.sqrt(n_tiles))\n",
    "    img = np.zeros(\n",
    "        (image_size*n_row_tiles, image_size*n_row_tiles, 3), dtype=\"uint8\"\n",
    "    )\n",
    "    \n",
    "    for h in range(n_row_tiles):\n",
    "        for w in range(n_row_tiles):\n",
    "            i = h * n_row_tiles + w\n",
    "            if len(tiles) > idxes[i]:\n",
    "                this_img = tiles[idxes[i]]\n",
    "            else:\n",
    "                this_img = np.ones((image_size, image_size, 3), dtype=\"uint8\") * 255\n",
    "                \n",
    "            h1 = h * image_size\n",
    "            w1 = w * image_size\n",
    "            img[h1 : h1 + image_size, w1 : w1 + image_size] = this_img\n",
    "    return img"
   ]
  },
  {
   "cell_type": "code",
   "execution_count": 142,
   "metadata": {},
   "outputs": [],
   "source": [
    "import albumentations as A\n",
    "import numpy as np\n",
    "import torch\n",
    "\n",
    "def to_tensor(x):\n",
    "    x = x.astype(\"float32\") / 255\n",
    "\n",
    "    return torch.from_numpy(x).permute(2, 0, 1)"
   ]
  },
  {
   "cell_type": "code",
   "execution_count": 159,
   "metadata": {},
   "outputs": [],
   "source": [
    "class CustomCancerDataset(Dataset):\n",
    "    def __init__(self, metadata_df, image_folder, transform=None):\n",
    "        self.metadata_df = metadata_df\n",
    "        self.image_folder = image_folder\n",
    "        self.transform = transform  # Use the provided transform\n",
    "\n",
    "    def __len__(self):\n",
    "        return len(self.metadata_df)\n",
    "    \n",
    "    def __getitem__(self, idx):\n",
    "        image_ids = self.metadata_df.image_id[idx]  \n",
    "        image_name = os.path.join(self.image_folder, \"{}_thumbnail.png\".format(image_ids))\n",
    "        image = Image.open(image_name)\n",
    "        img = get_tiles(\n",
    "            np.array(image),\n",
    "            mode=0,\n",
    "        )\n",
    "        img = concat_tiles(\n",
    "            img, 20, 256\n",
    "        )\n",
    "\n",
    "        img = to_tensor(img)\n",
    "        \n",
    "        label_CC  = self.metadata_df.label_CC[idx].astype(int)  \n",
    "        label_EC  = self.metadata_df.label_EC[idx].astype(int)    \n",
    "        label_HGSC  = self.metadata_df.label_HGSC[idx].astype(int)    \n",
    "        label_LGSC  = self.metadata_df.label_LGSC[idx].astype(int)    \n",
    "        label_MC  = self.metadata_df.label_MC[idx].astype(int)\n",
    "\n",
    "        return img, torch.tensor([label_CC, label_EC, label_HGSC, label_LGSC, label_MC], dtype=torch.float)"
   ]
  },
  {
   "cell_type": "code",
   "execution_count": 160,
   "metadata": {},
   "outputs": [],
   "source": [
    "train_ucb_dataset = CustomCancerDataset(train_split, image_folder='/home/woody/iwso/iwso092h/mad_ucb_kaggle/train_thumbnails')\n",
    "val_ucb_dataset = CustomCancerDataset(val_split, image_folder='/home/woody/iwso/iwso092h/mad_ucb_kaggle/train_thumbnails')"
   ]
  },
  {
   "cell_type": "code",
   "execution_count": 167,
   "metadata": {},
   "outputs": [],
   "source": [
    "batch_size = 16\n",
    "train_loader = DataLoader(train_ucb_dataset, batch_size=batch_size, shuffle=True)\n",
    "val_loader = DataLoader(val_ucb_dataset, batch_size=batch_size)"
   ]
  },
  {
   "cell_type": "code",
   "execution_count": 171,
   "metadata": {},
   "outputs": [
    {
     "name": "stdout",
     "output_type": "stream",
     "text": [
      "Loaded pretrained weights for efficientnet-b0\n"
     ]
    }
   ],
   "source": [
    "model = EfficientNet.from_pretrained('efficientnet-b0', num_classes=5) \n",
    "class FocalLoss(nn.Module):\n",
    "    def __init__(self, alpha=1, gamma=2):\n",
    "        super(FocalLoss, self).__init__()\n",
    "        self.alpha = alpha\n",
    "        self.gamma = gamma\n",
    "\n",
    "    def forward(self, inputs, targets):\n",
    "        BCE_loss = nn.BCEWithLogitsLoss(reduction='none')(inputs, targets)\n",
    "        pt = torch.exp(-BCE_loss)\n",
    "        focal_loss = self.alpha * (1 - pt) ** self.gamma * BCE_loss\n",
    "        return torch.mean(focal_loss)"
   ]
  },
  {
   "cell_type": "code",
   "execution_count": 172,
   "metadata": {},
   "outputs": [],
   "source": [
    "criterion = FocalLoss()\n",
    "\n",
    "optimizer = optim.Adam(model.parameters(), lr=0.001)  \n",
    "scheduler = CosineAnnealingLR(optimizer, T_max=10)"
   ]
  },
  {
   "cell_type": "code",
   "execution_count": 176,
   "metadata": {},
   "outputs": [],
   "source": [
    "def train_model(model, criterion, optimizer, scheduler, train_loader, val_loader, num_epochs=10):\n",
    "    device = torch.device('cuda' if torch.cuda.is_available() else 'cpu')\n",
    "    model = model.to(device)\n",
    "    for epoch in range(num_epochs):\n",
    "        model.train()\n",
    "        running_loss = 0.0\n",
    "        for inputs, labels in tqdm(train_loader, desc='training:', leave=False):\n",
    "            inputs, labels = inputs.to(device), labels.to(device)\n",
    "            optimizer.zero_grad()\n",
    "            outputs = model(inputs)\n",
    "            loss = criterion(outputs, labels.float())  # Convert labels to float\n",
    "            loss.backward()\n",
    "            optimizer.step()\n",
    "            running_loss += loss.item()\n",
    "\n",
    "        # Validation\n",
    "        model.eval()\n",
    "        with torch.no_grad():\n",
    "            val_loss = 0.0\n",
    "            all_preds = []\n",
    "            all_labels = []\n",
    "            for inputs, labels in tqdm(val_loader, desc='validating', leave=False):\n",
    "                inputs, labels = inputs.to(device), labels.to(device)\n",
    "                outputs = model(inputs)\n",
    "                loss = criterion(outputs, labels.float())  # Convert labels to float\n",
    "                val_loss += loss.item()\n",
    "                preds = torch.sigmoid(outputs) > 0.5  # Assuming threshold of 0.5\n",
    "                all_preds.extend(preds.cpu().numpy())\n",
    "                all_labels.extend(labels.cpu().numpy())\n",
    "\n",
    "            val_balanced_accuracy = balanced_accuracy_score(all_labels, all_preds)\n",
    "\n",
    "        print(f\"Epoch [{epoch+1}/{num_epochs}] \"\n",
    "              f\"Train Loss: {running_loss/len(train_loader):.4f} \"\n",
    "              f\"Val Loss: {val_loss/len(val_loader):.4f} \"\n",
    "              f\"Val Balanced Accuracy: {val_balanced_accuracy:.4f}\")\n",
    "\n",
    "        scheduler.step()"
   ]
  },
  {
   "cell_type": "code",
   "execution_count": 177,
   "metadata": {},
   "outputs": [
    {
     "ename": "KeyboardInterrupt",
     "evalue": "",
     "output_type": "error",
     "traceback": [
      "\u001b[0;31m---------------------------------------------------------------------------\u001b[0m",
      "\u001b[0;31mKeyboardInterrupt\u001b[0m                         Traceback (most recent call last)",
      "\u001b[1;32m/home/woody/iwso/iwso092h/mad_ucb_kaggle/notebooks/visiomel_ref.ipynb Cell 11\u001b[0m line \u001b[0;36m1\n\u001b[0;32m----> <a href='vscode-notebook-cell://ssh-remote%2Bwoody.nhr.fau.de/home/woody/iwso/iwso092h/mad_ucb_kaggle/notebooks/visiomel_ref.ipynb#X56sdnNjb2RlLXJlbW90ZQ%3D%3D?line=0'>1</a>\u001b[0m train_model(model, criterion, optimizer, scheduler, train_loader, val_loader, num_epochs\u001b[39m=\u001b[39;49m\u001b[39m10\u001b[39;49m)\n",
      "\u001b[1;32m/home/woody/iwso/iwso092h/mad_ucb_kaggle/notebooks/visiomel_ref.ipynb Cell 11\u001b[0m line \u001b[0;36m1\n\u001b[1;32m     <a href='vscode-notebook-cell://ssh-remote%2Bwoody.nhr.fau.de/home/woody/iwso/iwso092h/mad_ucb_kaggle/notebooks/visiomel_ref.ipynb#X56sdnNjb2RlLXJlbW90ZQ%3D%3D?line=9'>10</a>\u001b[0m outputs \u001b[39m=\u001b[39m model(inputs)\n\u001b[1;32m     <a href='vscode-notebook-cell://ssh-remote%2Bwoody.nhr.fau.de/home/woody/iwso/iwso092h/mad_ucb_kaggle/notebooks/visiomel_ref.ipynb#X56sdnNjb2RlLXJlbW90ZQ%3D%3D?line=10'>11</a>\u001b[0m loss \u001b[39m=\u001b[39m criterion(outputs, labels\u001b[39m.\u001b[39mfloat())  \u001b[39m# Convert labels to float\u001b[39;00m\n\u001b[0;32m---> <a href='vscode-notebook-cell://ssh-remote%2Bwoody.nhr.fau.de/home/woody/iwso/iwso092h/mad_ucb_kaggle/notebooks/visiomel_ref.ipynb#X56sdnNjb2RlLXJlbW90ZQ%3D%3D?line=11'>12</a>\u001b[0m loss\u001b[39m.\u001b[39;49mbackward()\n\u001b[1;32m     <a href='vscode-notebook-cell://ssh-remote%2Bwoody.nhr.fau.de/home/woody/iwso/iwso092h/mad_ucb_kaggle/notebooks/visiomel_ref.ipynb#X56sdnNjb2RlLXJlbW90ZQ%3D%3D?line=12'>13</a>\u001b[0m optimizer\u001b[39m.\u001b[39mstep()\n\u001b[1;32m     <a href='vscode-notebook-cell://ssh-remote%2Bwoody.nhr.fau.de/home/woody/iwso/iwso092h/mad_ucb_kaggle/notebooks/visiomel_ref.ipynb#X56sdnNjb2RlLXJlbW90ZQ%3D%3D?line=13'>14</a>\u001b[0m running_loss \u001b[39m+\u001b[39m\u001b[39m=\u001b[39m loss\u001b[39m.\u001b[39mitem()\n",
      "File \u001b[0;32m/home/woody/iwso/iwso092h/miniconda/lib/python3.11/site-packages/torch/_tensor.py:487\u001b[0m, in \u001b[0;36mTensor.backward\u001b[0;34m(self, gradient, retain_graph, create_graph, inputs)\u001b[0m\n\u001b[1;32m    477\u001b[0m \u001b[39mif\u001b[39;00m has_torch_function_unary(\u001b[39mself\u001b[39m):\n\u001b[1;32m    478\u001b[0m     \u001b[39mreturn\u001b[39;00m handle_torch_function(\n\u001b[1;32m    479\u001b[0m         Tensor\u001b[39m.\u001b[39mbackward,\n\u001b[1;32m    480\u001b[0m         (\u001b[39mself\u001b[39m,),\n\u001b[0;32m   (...)\u001b[0m\n\u001b[1;32m    485\u001b[0m         inputs\u001b[39m=\u001b[39minputs,\n\u001b[1;32m    486\u001b[0m     )\n\u001b[0;32m--> 487\u001b[0m torch\u001b[39m.\u001b[39;49mautograd\u001b[39m.\u001b[39;49mbackward(\n\u001b[1;32m    488\u001b[0m     \u001b[39mself\u001b[39;49m, gradient, retain_graph, create_graph, inputs\u001b[39m=\u001b[39;49minputs\n\u001b[1;32m    489\u001b[0m )\n",
      "File \u001b[0;32m/home/woody/iwso/iwso092h/miniconda/lib/python3.11/site-packages/torch/autograd/__init__.py:200\u001b[0m, in \u001b[0;36mbackward\u001b[0;34m(tensors, grad_tensors, retain_graph, create_graph, grad_variables, inputs)\u001b[0m\n\u001b[1;32m    195\u001b[0m     retain_graph \u001b[39m=\u001b[39m create_graph\n\u001b[1;32m    197\u001b[0m \u001b[39m# The reason we repeat same the comment below is that\u001b[39;00m\n\u001b[1;32m    198\u001b[0m \u001b[39m# some Python versions print out the first line of a multi-line function\u001b[39;00m\n\u001b[1;32m    199\u001b[0m \u001b[39m# calls in the traceback and some print out the last line\u001b[39;00m\n\u001b[0;32m--> 200\u001b[0m Variable\u001b[39m.\u001b[39;49m_execution_engine\u001b[39m.\u001b[39;49mrun_backward(  \u001b[39m# Calls into the C++ engine to run the backward pass\u001b[39;49;00m\n\u001b[1;32m    201\u001b[0m     tensors, grad_tensors_, retain_graph, create_graph, inputs,\n\u001b[1;32m    202\u001b[0m     allow_unreachable\u001b[39m=\u001b[39;49m\u001b[39mTrue\u001b[39;49;00m, accumulate_grad\u001b[39m=\u001b[39;49m\u001b[39mTrue\u001b[39;49;00m)\n",
      "File \u001b[0;32m/home/woody/iwso/iwso092h/miniconda/lib/python3.11/site-packages/torch/autograd/function.py:264\u001b[0m, in \u001b[0;36mBackwardCFunction.apply\u001b[0;34m(self, *args)\u001b[0m\n\u001b[1;32m    263\u001b[0m \u001b[39mclass\u001b[39;00m \u001b[39mBackwardCFunction\u001b[39;00m(_C\u001b[39m.\u001b[39m_FunctionBase, FunctionCtx, _HookMixin):\n\u001b[0;32m--> 264\u001b[0m     \u001b[39mdef\u001b[39;00m \u001b[39mapply\u001b[39m(\u001b[39mself\u001b[39m, \u001b[39m*\u001b[39margs):\n\u001b[1;32m    265\u001b[0m         \u001b[39m# _forward_cls is defined by derived class\u001b[39;00m\n\u001b[1;32m    266\u001b[0m         \u001b[39m# The user should define either backward or vjp but never both.\u001b[39;00m\n\u001b[1;32m    267\u001b[0m         backward_fn \u001b[39m=\u001b[39m \u001b[39mself\u001b[39m\u001b[39m.\u001b[39m_forward_cls\u001b[39m.\u001b[39mbackward  \u001b[39m# type: ignore[attr-defined]\u001b[39;00m\n\u001b[1;32m    268\u001b[0m         vjp_fn \u001b[39m=\u001b[39m \u001b[39mself\u001b[39m\u001b[39m.\u001b[39m_forward_cls\u001b[39m.\u001b[39mvjp  \u001b[39m# type: ignore[attr-defined]\u001b[39;00m\n",
      "\u001b[0;31mKeyboardInterrupt\u001b[0m: "
     ]
    }
   ],
   "source": [
    "train_model(model, criterion, optimizer, scheduler, train_loader, val_loader, num_epochs=10)"
   ]
  },
  {
   "cell_type": "code",
   "execution_count": null,
   "metadata": {},
   "outputs": [],
   "source": []
  },
  {
   "cell_type": "code",
   "execution_count": null,
   "metadata": {},
   "outputs": [],
   "source": []
  },
  {
   "cell_type": "code",
   "execution_count": null,
   "metadata": {},
   "outputs": [],
   "source": []
  },
  {
   "cell_type": "code",
   "execution_count": null,
   "metadata": {},
   "outputs": [],
   "source": []
  },
  {
   "cell_type": "code",
   "execution_count": null,
   "metadata": {},
   "outputs": [],
   "source": []
  },
  {
   "cell_type": "code",
   "execution_count": null,
   "metadata": {},
   "outputs": [],
   "source": []
  },
  {
   "cell_type": "code",
   "execution_count": null,
   "metadata": {},
   "outputs": [],
   "source": []
  }
 ],
 "metadata": {
  "kernelspec": {
   "display_name": "base",
   "language": "python",
   "name": "python3"
  },
  "language_info": {
   "codemirror_mode": {
    "name": "ipython",
    "version": 3
   },
   "file_extension": ".py",
   "mimetype": "text/x-python",
   "name": "python",
   "nbconvert_exporter": "python",
   "pygments_lexer": "ipython3",
   "version": "3.11.4"
  }
 },
 "nbformat": 4,
 "nbformat_minor": 2
}
