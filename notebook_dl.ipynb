{
 "cells": [
  {
   "cell_type": "code",
   "execution_count": 2,
   "metadata": {},
   "outputs": [],
   "source": [
    "import prepare_data\n",
    "import pandas as pd\n",
    "import os\n",
    "from datasets import CustomCancerDataset"
   ]
  },
  {
   "cell_type": "code",
   "execution_count": 3,
   "metadata": {},
   "outputs": [],
   "source": [
    "root = r'C:\\Users\\ADE17\\Desktop\\Masters\\Projects\\Kaggle_UBC_Ocean'\n",
    "train_images = r'train_thumbnails'"
   ]
  },
  {
   "cell_type": "code",
   "execution_count": 4,
   "metadata": {},
   "outputs": [],
   "source": [
    "train_df, val_df = prepare_data.data_split(r'C:\\Users\\ADE17\\Desktop\\Masters\\Projects\\Kaggle_UBC_Ocean\\data', )"
   ]
  },
  {
   "cell_type": "code",
   "execution_count": 5,
   "metadata": {},
   "outputs": [],
   "source": [
    "train_df_f = prepare_data.preprocess_dataframe(train_df, os.path.join(root, train_images))\n",
    "val_df_f = prepare_data.preprocess_dataframe(val_df, os.path.join(root, train_images))"
   ]
  },
  {
   "cell_type": "code",
   "execution_count": 6,
   "metadata": {},
   "outputs": [
    {
     "name": "stderr",
     "output_type": "stream",
     "text": [
      "c:\\Users\\ADE17\\Desktop\\Masters\\Projects\\Kaggle_UBC_Ocean\\prepare_data.py:23: SettingWithCopyWarning: \n",
      "A value is trying to be set on a copy of a slice from a DataFrame.\n",
      "Try using .loc[row_indexer,col_indexer] = value instead\n",
      "\n",
      "See the caveats in the documentation: https://pandas.pydata.org/pandas-docs/stable/user_guide/indexing.html#returning-a-view-versus-a-copy\n",
      "  df['label'] = df['label'].map(label_mapping)\n",
      "c:\\Users\\ADE17\\Desktop\\Masters\\Projects\\Kaggle_UBC_Ocean\\prepare_data.py:27: SettingWithCopyWarning: \n",
      "A value is trying to be set on a copy of a slice from a DataFrame.\n",
      "Try using .loc[row_indexer,col_indexer] = value instead\n",
      "\n",
      "See the caveats in the documentation: https://pandas.pydata.org/pandas-docs/stable/user_guide/indexing.html#returning-a-view-versus-a-copy\n",
      "  df['is_tma'] = df['is_tma'].astype(int)\n"
     ]
    }
   ],
   "source": [
    "train_df_pp = prepare_data.custom_label_encode(train_df_f)"
   ]
  },
  {
   "cell_type": "code",
   "execution_count": 7,
   "metadata": {},
   "outputs": [
    {
     "name": "stderr",
     "output_type": "stream",
     "text": [
      "c:\\Users\\ADE17\\Desktop\\Masters\\Projects\\Kaggle_UBC_Ocean\\prepare_data.py:23: SettingWithCopyWarning: \n",
      "A value is trying to be set on a copy of a slice from a DataFrame.\n",
      "Try using .loc[row_indexer,col_indexer] = value instead\n",
      "\n",
      "See the caveats in the documentation: https://pandas.pydata.org/pandas-docs/stable/user_guide/indexing.html#returning-a-view-versus-a-copy\n",
      "  df['label'] = df['label'].map(label_mapping)\n",
      "c:\\Users\\ADE17\\Desktop\\Masters\\Projects\\Kaggle_UBC_Ocean\\prepare_data.py:27: SettingWithCopyWarning: \n",
      "A value is trying to be set on a copy of a slice from a DataFrame.\n",
      "Try using .loc[row_indexer,col_indexer] = value instead\n",
      "\n",
      "See the caveats in the documentation: https://pandas.pydata.org/pandas-docs/stable/user_guide/indexing.html#returning-a-view-versus-a-copy\n",
      "  df['is_tma'] = df['is_tma'].astype(int)\n"
     ]
    }
   ],
   "source": [
    "val_df_pp = prepare_data.custom_label_encode(val_df_f)"
   ]
  },
  {
   "cell_type": "code",
   "execution_count": 8,
   "metadata": {},
   "outputs": [],
   "source": [
    "train_reset = train_df_pp.reset_index(drop=True)\n",
    "val_reset = val_df_pp.reset_index(drop=True)"
   ]
  },
  {
   "cell_type": "code",
   "execution_count": 11,
   "metadata": {},
   "outputs": [
    {
     "data": {
      "text/plain": [
       "False    410\n",
       "True      20\n",
       "Name: is_tma, dtype: int64"
      ]
     },
     "execution_count": 11,
     "metadata": {},
     "output_type": "execute_result"
    }
   ],
   "source": [
    "train_df.is_tma.value_counts()"
   ]
  },
  {
   "cell_type": "code",
   "execution_count": 8,
   "metadata": {},
   "outputs": [
    {
     "name": "stderr",
     "output_type": "stream",
     "text": [
      "c:\\Users\\ADE17\\anaconda3\\anaconda2\\lib\\site-packages\\torchvision\\models\\_utils.py:208: UserWarning: The parameter 'pretrained' is deprecated since 0.13 and may be removed in the future, please use 'weights' instead.\n",
      "  warnings.warn(\n",
      "c:\\Users\\ADE17\\anaconda3\\anaconda2\\lib\\site-packages\\torchvision\\models\\_utils.py:223: UserWarning: Arguments other than a weight enum or `None` for 'weights' are deprecated since 0.13 and may be removed in the future. The current behavior is equivalent to passing `weights=ResNet50_Weights.IMAGENET1K_V1`. You can also use `weights=ResNet50_Weights.DEFAULT` to get the most up-to-date weights.\n",
      "  warnings.warn(msg)\n"
     ]
    }
   ],
   "source": [
    "from models import MultiModalModel\n",
    "num_classes_image  = 2\n",
    "num_classes_feature  = 5\n",
    "model = MultiModalModel(num_classes_image, num_classes_feature)"
   ]
  },
  {
   "cell_type": "code",
   "execution_count": 9,
   "metadata": {},
   "outputs": [],
   "source": [
    "from torchvision import transforms\n",
    "data_transforms = transforms.Compose([\n",
    "    transforms.Resize((224, 224)),  # Resize your data to a specific size\n",
    "    transforms.ToTensor()  # Convert the data to a PyTorch tensor\n",
    "])"
   ]
  },
  {
   "cell_type": "code",
   "execution_count": 10,
   "metadata": {},
   "outputs": [],
   "source": [
    "image_folder = r'C:\\Users\\ADE17\\Desktop\\Masters\\Projects\\Kaggle_UBC_Ocean\\train_thumbnails'\n",
    "train_dataset = CustomCancerDataset(train_reset, image_folder, transform = data_transforms)\n",
    "val_dataset = CustomCancerDataset(val_reset, image_folder, transform = data_transforms)"
   ]
  },
  {
   "cell_type": "code",
   "execution_count": 11,
   "metadata": {},
   "outputs": [],
   "source": [
    "from torch.utils.data import DataLoader\n",
    "\n",
    "batch_size = 16\n",
    "train_loader = DataLoader(train_dataset, batch_size=batch_size, shuffle=True)\n",
    "valid_loader = DataLoader(val_dataset, batch_size=batch_size, shuffle=False)"
   ]
  },
  {
   "cell_type": "code",
   "execution_count": 12,
   "metadata": {},
   "outputs": [
    {
     "ename": "AttributeError",
     "evalue": "'MultiModalModel' object has no attribute 'feature_mlp'",
     "output_type": "error",
     "traceback": [
      "\u001b[1;31m---------------------------------------------------------------------------\u001b[0m",
      "\u001b[1;31mAttributeError\u001b[0m                            Traceback (most recent call last)",
      "\u001b[1;32mc:\\Users\\ADE17\\Desktop\\Masters\\Projects\\Kaggle_UBC_Ocean\\notebook_dl.ipynb Cell 12\u001b[0m line \u001b[0;36m2\n\u001b[0;32m      <a href='vscode-notebook-cell:/c%3A/Users/ADE17/Desktop/Masters/Projects/Kaggle_UBC_Ocean/notebook_dl.ipynb#X43sZmlsZQ%3D%3D?line=0'>1</a>\u001b[0m \u001b[39mfrom\u001b[39;00m \u001b[39mtrainer\u001b[39;00m \u001b[39mimport\u001b[39;00m train_classification_model\n\u001b[1;32m----> <a href='vscode-notebook-cell:/c%3A/Users/ADE17/Desktop/Masters/Projects/Kaggle_UBC_Ocean/notebook_dl.ipynb#X43sZmlsZQ%3D%3D?line=1'>2</a>\u001b[0m train_classification_model(model, train_loader, valid_loader, num_epochs\u001b[39m=\u001b[39;49m\u001b[39m20\u001b[39;49m, lr\u001b[39m=\u001b[39;49m\u001b[39m0.01\u001b[39;49m, patience\u001b[39m=\u001b[39;49m\u001b[39m3\u001b[39;49m)\n",
      "File \u001b[1;32mc:\\Users\\ADE17\\Desktop\\Masters\\Projects\\Kaggle_UBC_Ocean\\trainer.py:17\u001b[0m, in \u001b[0;36mtrain_classification_model\u001b[1;34m(model, train_loader, valid_loader, num_epochs, lr, patience)\u001b[0m\n\u001b[0;32m     12\u001b[0m model\u001b[39m.\u001b[39mto(device)\n\u001b[0;32m     14\u001b[0m criterion \u001b[39m=\u001b[39m nn\u001b[39m.\u001b[39mCrossEntropyLoss()\n\u001b[0;32m     16\u001b[0m optimizer \u001b[39m=\u001b[39m optim\u001b[39m.\u001b[39mAdam(\n\u001b[1;32m---> 17\u001b[0m [{\u001b[39m'\u001b[39m\u001b[39mparams\u001b[39m\u001b[39m'\u001b[39m: model\u001b[39m.\u001b[39;49mfeature_mlp\u001b[39m.\u001b[39mparameters()},\n\u001b[0;32m     18\u001b[0m  {\u001b[39m'\u001b[39m\u001b[39mparams\u001b[39m\u001b[39m'\u001b[39m: model\u001b[39m.\u001b[39mfc\u001b[39m.\u001b[39mparameters()}],\n\u001b[0;32m     19\u001b[0m lr\u001b[39m=\u001b[39mlr\n\u001b[0;32m     20\u001b[0m )\n\u001b[0;32m     21\u001b[0m scheduler \u001b[39m=\u001b[39m ReduceLROnPlateau(optimizer, \u001b[39m'\u001b[39m\u001b[39mmin\u001b[39m\u001b[39m'\u001b[39m, patience\u001b[39m=\u001b[39m\u001b[39m1\u001b[39m)  \u001b[39m# LR scheduler\u001b[39;00m\n\u001b[0;32m     23\u001b[0m best_valid_loss \u001b[39m=\u001b[39m np\u001b[39m.\u001b[39minf\n",
      "File \u001b[1;32mc:\\Users\\ADE17\\anaconda3\\anaconda2\\lib\\site-packages\\torch\\nn\\modules\\module.py:1614\u001b[0m, in \u001b[0;36mModule.__getattr__\u001b[1;34m(self, name)\u001b[0m\n\u001b[0;32m   1612\u001b[0m     \u001b[39mif\u001b[39;00m name \u001b[39min\u001b[39;00m modules:\n\u001b[0;32m   1613\u001b[0m         \u001b[39mreturn\u001b[39;00m modules[name]\n\u001b[1;32m-> 1614\u001b[0m \u001b[39mraise\u001b[39;00m \u001b[39mAttributeError\u001b[39;00m(\u001b[39m\"\u001b[39m\u001b[39m'\u001b[39m\u001b[39m{}\u001b[39;00m\u001b[39m'\u001b[39m\u001b[39m object has no attribute \u001b[39m\u001b[39m'\u001b[39m\u001b[39m{}\u001b[39;00m\u001b[39m'\u001b[39m\u001b[39m\"\u001b[39m\u001b[39m.\u001b[39mformat(\n\u001b[0;32m   1615\u001b[0m     \u001b[39mtype\u001b[39m(\u001b[39mself\u001b[39m)\u001b[39m.\u001b[39m\u001b[39m__name__\u001b[39m, name))\n",
      "\u001b[1;31mAttributeError\u001b[0m: 'MultiModalModel' object has no attribute 'feature_mlp'"
     ]
    }
   ],
   "source": [
    "from trainer import train_classification_model\n",
    "train_classification_model(model, train_loader, valid_loader, num_epochs=20, lr=0.01, patience=3)"
   ]
  },
  {
   "cell_type": "code",
   "execution_count": 5,
   "metadata": {},
   "outputs": [],
   "source": []
  },
  {
   "cell_type": "code",
   "execution_count": null,
   "metadata": {},
   "outputs": [],
   "source": []
  }
 ],
 "metadata": {
  "kernelspec": {
   "display_name": "Python 3",
   "language": "python",
   "name": "python3"
  },
  "language_info": {
   "codemirror_mode": {
    "name": "ipython",
    "version": 3
   },
   "file_extension": ".py",
   "mimetype": "text/x-python",
   "name": "python",
   "nbconvert_exporter": "python",
   "pygments_lexer": "ipython3",
   "version": "3.9.12"
  }
 },
 "nbformat": 4,
 "nbformat_minor": 2
}
